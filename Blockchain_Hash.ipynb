{
 "cells": [
  {
   "cell_type": "code",
   "execution_count": 5,
   "metadata": {},
   "outputs": [
    {
     "name": "stdout",
     "output_type": "stream",
     "text": [
      "b'Hello'\n"
     ]
    }
   ],
   "source": [
    "import hashlib\n",
    "\n",
    "def bitcoin_hash(data):\n",
    "    # First SHA-256 hash\n",
    "    first_hash = hashlib.sha256(data.encode('utf-8')).digest()\n",
    "    \n",
    "    # Second SHA-256 hash (double SHA-256)\n",
    "    second_hash = hashlib.sha256(first_hash).hexdigest()\n",
    "    \n",
    "    return second_hash\n",
    "\n",
    "# Example usage\n",
    "data = \"I want to create a Bitcoin-like hash!\"\n",
    "print(\"Hash:\", bitcoin_hash(data))"
   ]
  },
  {
   "cell_type": "code",
   "execution_count": 14,
   "metadata": {},
   "outputs": [
    {
     "name": "stdout",
     "output_type": "stream",
     "text": [
      "Block mined\n",
      "Hash: 000000fb75f5ca9eb08527e41387e7abcc825a836e0ddc9cc74844f57e0d1b8a, Nonce: 17768121\n"
     ]
    }
   ],
   "source": [
    "import hashlib\n",
    "\n",
    "def bitcoin_hash(data):\n",
    "    # First SHA-256 hash\n",
    "    first_hash = hashlib.sha256(data.encode('utf-8')).digest()\n",
    "    \n",
    "    # Second SHA-256 hash (double SHA-256)\n",
    "    second_hash = hashlib.sha256(first_hash).hexdigest()\n",
    "    \n",
    "    return second_hash\n",
    "\n",
    "def mine_block(data, difficulty):\n",
    "    nonce = 0\n",
    "    prefix = '0' * difficulty  # The difficulty defines how many leading zeros are required\n",
    "    \n",
    "    while True:\n",
    "        text = data + str(nonce)\n",
    "        hash_result = bitcoin_hash(text)\n",
    "        \n",
    "        if hash_result.startswith(prefix):\n",
    "            print(\"Block mined\")\n",
    "            return hash_result, nonce\n",
    "        \n",
    "        nonce += 1  # Increment the nonce for the next hash attempt\n",
    "\n",
    "# Example: mining a block with difficulty 4\n",
    "difficulty = 6  # Number of leading zeroes required\n",
    "mined_hash, nonce = mine_block(\"Block data\", difficulty)\n",
    "print(f\"Hash: {mined_hash}, Nonce: {nonce}\")\n"
   ]
  }
 ],
 "metadata": {
  "kernelspec": {
   "display_name": "digital_finance_env",
   "language": "python",
   "name": "python3"
  },
  "language_info": {
   "codemirror_mode": {
    "name": "ipython",
    "version": 3
   },
   "file_extension": ".py",
   "mimetype": "text/x-python",
   "name": "python",
   "nbconvert_exporter": "python",
   "pygments_lexer": "ipython3",
   "version": "3.11.9"
  }
 },
 "nbformat": 4,
 "nbformat_minor": 2
}
